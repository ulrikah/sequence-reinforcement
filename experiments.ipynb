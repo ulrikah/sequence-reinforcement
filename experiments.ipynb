{
 "cells": [
  {
   "cell_type": "code",
   "execution_count": 113,
   "metadata": {},
   "outputs": [],
   "source": [
    "import gym\n",
    "import numpy as np\n",
    "import librosa\n",
    "\n",
    "import torch\n",
    "import torch.nn as nn\n",
    "import torch.optim as optim\n",
    "import torch.nn.functional as F"
   ]
  },
  {
   "cell_type": "code",
   "execution_count": 123,
   "metadata": {},
   "outputs": [],
   "source": [
    "class DQN(nn.Module):\n",
    "    \n",
    "    def __init__(self, n_steps):\n",
    "        super(DQN, self).__init__()\n",
    "        \n",
    "        self.model = nn.Sequential(\n",
    "            nn.Linear(n_steps, n_steps * 2),\n",
    "            nn.BatchNorm1d(n_steps * 2),\n",
    "            nn.ReLU(),\n",
    "            \n",
    "            nn.Linear(n_steps * 2, n_steps * 4),\n",
    "            nn.BatchNorm1d(n_steps * 4),\n",
    "            nn.ReLU(),\n",
    "            \n",
    "            nn.Linear(n_steps * 4, n_steps * 2),\n",
    "            nn.BatchNorm1d(n_steps * 2),\n",
    "            nn.ReLU()\n",
    "        )\n",
    "\n",
    "        self.head = nn.Linear(n_steps * 2, n_steps)\n",
    "\n",
    "    def forward(self, x):\n",
    "        x = self.model(x)\n",
    "        x = self.head(x)\n",
    "        return x"
   ]
  },
  {
   "cell_type": "code",
   "execution_count": 125,
   "metadata": {},
   "outputs": [
    {
     "name": "stdout",
     "output_type": "stream",
     "text": [
      "DQN(\n",
      "  (model): Sequential(\n",
      "    (0): Linear(in_features=16, out_features=32, bias=True)\n",
      "    (1): BatchNorm1d(32, eps=1e-05, momentum=0.1, affine=True, track_running_stats=True)\n",
      "    (2): ReLU()\n",
      "    (3): Linear(in_features=32, out_features=64, bias=True)\n",
      "    (4): BatchNorm1d(64, eps=1e-05, momentum=0.1, affine=True, track_running_stats=True)\n",
      "    (5): ReLU()\n",
      "    (6): Linear(in_features=64, out_features=32, bias=True)\n",
      "    (7): BatchNorm1d(32, eps=1e-05, momentum=0.1, affine=True, track_running_stats=True)\n",
      "    (8): ReLU()\n",
      "  )\n",
      "  (head): Linear(in_features=32, out_features=16, bias=True)\n",
      ")\n"
     ]
    }
   ],
   "source": [
    "net = DQN(16)\n",
    "print(net)"
   ]
  },
  {
   "cell_type": "code",
   "execution_count": 107,
   "metadata": {},
   "outputs": [],
   "source": [
    "# inspired by RaveForce: https://github.com/chaosprint/RaveForce/blob/master/Python/raveforce.py\n",
    "# also contains many more action spaces\n",
    "\n",
    "# TO DO: inherit from gym.Space\n",
    "class SequenceActions:\n",
    "    def __init__(self, n_steps):\n",
    "        self.n_steps = n_steps\n",
    "    \n",
    "    def sample(self):\n",
    "        return np.random.choice([0, 1], size=(self.n_steps,))\n",
    "    "
   ]
  },
  {
   "cell_type": "code",
   "execution_count": 110,
   "metadata": {},
   "outputs": [],
   "source": [
    "class MidiEnv(gym.Env):\n",
    "    def __init__(self, n_bars = 4, beats_per_bar = 4):\n",
    "        '''Initialises a np array of fixed length for kick and snare'''\n",
    "\n",
    "        self.n_bars = n_bars\n",
    "        self.beats_per_bar = beats_per_bar\n",
    "        \n",
    "        self.kick_seq = np.array([1, 0, 0, 0] * self.n_bars)\n",
    "        # self.kick_seq = np.random.choice([0, 1], size=(get_n_steps(),), p=[3./4, 1./4])\n",
    "        self.snare_seq = np.zeros(self.get_n_steps(), dtype = np.int8)\n",
    "        \n",
    "        self.action_space = SequenceActions(n_steps = self.get_n_steps())\n",
    "        self.reward_range = (0.0, 1.0)\n",
    "        \n",
    "        # TO DO - how to define the observation space? it's just a np array of length n_steps\n",
    "        self.observation_space = None\n",
    "    \n",
    "    def get_n_steps(self):\n",
    "        return self.n_bars * self.beats_per_bar\n",
    "    \n",
    "    def __len__(self):\n",
    "        return self.get_n_steps()\n",
    "\n",
    "    def step(self, action : np.ndarray):\n",
    "        reward = self.calculate_reward(self.kick_seq, action)\n",
    "        self.snare_seq = action\n",
    "        return self.kick_seq, reward, False, {}\n",
    "    \n",
    "    def calculate_reward(self, kick_seq : np.ndarray, snare_seq: np.ndarray):\n",
    "        assert kick_seq.shape == snare_seq.shape\n",
    "        diff = np.sum(kick_seq - snare_seq)\n",
    "        return np.abs(diff/self.get_n_steps()) # normalized sum to fit in the reward range\n",
    "    \n",
    "    def render(self):\n",
    "        '''Renders the np array as a sequence of MIDI notes'''\n",
    "        print(\"Snare sequence\", self.snare_seq)\n",
    "        print(\"Kick sequence\", self.kick_seq)\n",
    "        return"
   ]
  },
  {
   "cell_type": "code",
   "execution_count": 111,
   "metadata": {},
   "outputs": [
    {
     "name": "stdout",
     "output_type": "stream",
     "text": [
      "Snare sequence [1 0 0 0 1 0 1 1 1 1 1 0 1 1 0 1 0 0 1 1 1 1 0 0 1 0 1 0 1 1 0 0]\n",
      "Kick sequence [1 0 0 0 1 0 0 0 1 0 0 0 1 0 0 0 1 0 0 0 1 0 0 0 1 0 0 0 1 0 0 0]\n",
      "Reward 0.3125\n",
      "Snare sequence [1 0 0 1 0 0 1 1 0 1 1 1 1 0 1 1 1 1 0 1 1 1 1 1 1 0 1 0 1 0 1 1]\n",
      "Kick sequence [1 0 0 0 1 0 0 0 1 0 0 0 1 0 0 0 1 0 0 0 1 0 0 0 1 0 0 0 1 0 0 0]\n",
      "Reward 0.4375\n"
     ]
    }
   ],
   "source": [
    "env = MidiEnv(n_bars = 8)\n",
    "threshold = 0.2\n",
    "for _ in range(2):\n",
    "    obs, reward, _, _ = env.step(env.action_space.sample())\n",
    "    if reward > threshold:\n",
    "        env.render()\n",
    "        print(\"Reward\", reward)\n",
    "env.close()"
   ]
  },
  {
   "cell_type": "markdown",
   "metadata": {},
   "source": [
    "# Default gym environment render"
   ]
  },
  {
   "cell_type": "code",
   "execution_count": null,
   "metadata": {},
   "outputs": [],
   "source": [
    "import gym\n",
    "env = gym.make('MountainCar-v0')\n",
    "env.reset()\n",
    "for _ in range(1000):\n",
    "    env.render()\n",
    "    env.step(env.action_space.sample()) # take a random action\n",
    "env.close()"
   ]
  },
  {
   "cell_type": "code",
   "execution_count": null,
   "metadata": {},
   "outputs": [],
   "source": [
    "for _ in range(10):\n",
    "    x = np.random.choice([0, 1], size=(16,))\n",
    "    y = np.random.choice([0, 1], size=(16,))\n",
    "\n",
    "    print(np.abs(np.sum(y - x)) / 16.0)\n",
    "\n",
    "zero = np.zeros(16)\n",
    "sixteen = np.array([1] * 16)\n",
    "print(np.abs(np.sum(sixteen - zero)) / 16.0)"
   ]
  },
  {
   "cell_type": "code",
   "execution_count": null,
   "metadata": {},
   "outputs": [],
   "source": []
  }
 ],
 "metadata": {
  "kernelspec": {
   "display_name": "Python 3",
   "language": "python",
   "name": "python3"
  },
  "language_info": {
   "codemirror_mode": {
    "name": "ipython",
    "version": 3
   },
   "file_extension": ".py",
   "mimetype": "text/x-python",
   "name": "python",
   "nbconvert_exporter": "python",
   "pygments_lexer": "ipython3",
   "version": "3.8.5"
  }
 },
 "nbformat": 4,
 "nbformat_minor": 4
}
